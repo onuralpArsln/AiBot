{
  "cells": [
    {
      "cell_type": "markdown",
      "metadata": {
        "id": "view-in-github",
        "colab_type": "text"
      },
      "source": [
        "<a href=\"https://colab.research.google.com/github/onuralpArsln/AiBot/blob/main/yolov7forestfire.ipynb\" target=\"_parent\"><img src=\"https://colab.research.google.com/assets/colab-badge.svg\" alt=\"Open In Colab\"/></a>"
      ]
    },
    {
      "cell_type": "markdown",
      "metadata": {
        "id": "mJTNdmYtg0Qx"
      },
      "source": [
        "A dataset is created from video feed of forest fire.\n",
        "\n",
        "Annoted with roboflow\n",
        "\n",
        "augmented with blurred added noise shear and rotation on roboflow\n",
        "\n",
        "and images preapred for yolov7 and pytroch"
      ]
    },
    {
      "cell_type": "markdown",
      "source": [
        "# Step0: setup colab notebook env\n",
        "\n",
        "\n",
        "\n"
      ],
      "metadata": {
        "id": "VNabvfvshBzq"
      }
    },
    {
      "cell_type": "code",
      "source": [],
      "metadata": {
        "id": "9GLVdF66g9Ad"
      },
      "execution_count": null,
      "outputs": []
    }
  ],
  "metadata": {
    "language_info": {
      "name": "python"
    },
    "colab": {
      "provenance": [],
      "include_colab_link": true
    }
  },
  "nbformat": 4,
  "nbformat_minor": 0
}